{
 "cells": [
  {
   "cell_type": "markdown",
   "id": "9b304197",
   "metadata": {},
   "source": [
    "# Python Basic Programming Assignment 8"
   ]
  },
  {
   "cell_type": "markdown",
   "id": "22789ae6",
   "metadata": {},
   "source": [
    "### 1. Write a Python Program to Add Two Matrices?"
   ]
  },
  {
   "cell_type": "code",
   "execution_count": 1,
   "id": "0f6aeb8b",
   "metadata": {},
   "outputs": [],
   "source": [
    "# First Create matrices with 3 dimension\n",
    "a = [[1,2,3],[4,5,6],[7,8,9]]\n",
    "\n",
    "b = [[9,8,7],[6,5,4],[3,2,1]]\n",
    "\n",
    "output = [[0,0,0],[0,0,0],[0,0,0]]"
   ]
  },
  {
   "cell_type": "code",
   "execution_count": 2,
   "id": "3a5e5069",
   "metadata": {},
   "outputs": [
    {
     "name": "stdout",
     "output_type": "stream",
     "text": [
      "[10, 10, 10]\n",
      "[10, 10, 10]\n",
      "[10, 10, 10]\n"
     ]
    }
   ],
   "source": [
    "# for loop to iteratre through rows and columns to add two matrices values\n",
    "for i in range(len(a)):\n",
    "    \n",
    "    for j in range(len(a[0])):\n",
    "        output[i][j] = a[i][j] + b[i][j]\n",
    "        \n",
    "# Generate the final output        \n",
    "for r in output:\n",
    "    print(r)"
   ]
  },
  {
   "cell_type": "markdown",
   "id": "044ceda6",
   "metadata": {},
   "source": [
    "### 2. Write a Python Program to Multiply Two Matrices?"
   ]
  },
  {
   "cell_type": "code",
   "execution_count": 3,
   "id": "6471f2e5",
   "metadata": {},
   "outputs": [],
   "source": [
    "# First Create matrices with 3 dimension\n",
    "a = [[1,2,3],[4,5,6],[7,8,9]]\n",
    "\n",
    "b = [[9,8,7],[6,5,4],[3,2,1]]\n",
    "\n",
    "output = [[0,0,0],[0,0,0],[0,0,0]]"
   ]
  },
  {
   "cell_type": "code",
   "execution_count": 4,
   "id": "102f39cf",
   "metadata": {},
   "outputs": [
    {
     "name": "stdout",
     "output_type": "stream",
     "text": [
      "[9, 16, 21]\n",
      "[24, 25, 24]\n",
      "[21, 16, 9]\n"
     ]
    }
   ],
   "source": [
    "# for loop to iteratre through rows and columns to multiply two matrices values\n",
    "for i in range(len(a)):\n",
    "    \n",
    "    for j in range(len(a[0])):\n",
    "        output[i][j] = a[i][j] * b[i][j]\n",
    "        \n",
    "# Generate the final output        \n",
    "for r in output:\n",
    "    print(r)"
   ]
  },
  {
   "cell_type": "markdown",
   "id": "5f688e46",
   "metadata": {},
   "source": [
    "### 3. Write a Python Program to Transpose a Matrix?"
   ]
  },
  {
   "cell_type": "code",
   "execution_count": 5,
   "id": "7316ce0a",
   "metadata": {},
   "outputs": [
    {
     "name": "stdout",
     "output_type": "stream",
     "text": [
      "[12, 4, 3]\n",
      "[7, 5, 8]\n"
     ]
    }
   ],
   "source": [
    "# Function to transpose a matrix using a nested loop\n",
    "a = [[12,7],[4,5],[3,8]]\n",
    "\n",
    "output = [[0,0,0],[0,0,0]]\n",
    "\n",
    "# iterate through rows\n",
    "for i in range(len(a)):\n",
    "    #iterate through columns\n",
    "    for j in range(len(a[0])):\n",
    "        output[j][i] = a[i][j]\n",
    "\n",
    "# Generate the final output\n",
    "for r in output:\n",
    "    print(r)"
   ]
  },
  {
   "cell_type": "markdown",
   "id": "b2849025",
   "metadata": {},
   "source": [
    "\n",
    "### 4. Write a Python Program to Sort Words in Alphabetic Order?\n"
   ]
  },
  {
   "cell_type": "code",
   "execution_count": 6,
   "id": "62e85b0b",
   "metadata": {},
   "outputs": [
    {
     "name": "stdout",
     "output_type": "stream",
     "text": [
      "The sorted words are:\n",
      "an\n",
      "cased\n",
      "example\n",
      "hello\n",
      "is\n",
      "letters\n",
      "this\n",
      "with\n"
     ]
    }
   ],
   "source": [
    "# Program to sort alphabetically the words form a string provided by the user\n",
    "my_str = \"Hello this Is an Example With cased letters\"\n",
    "\n",
    "words = [word.lower() for word in my_str.split()]\n",
    "\n",
    "words.sort()\n",
    "\n",
    "print(\"The sorted words are:\")\n",
    "for word in words:\n",
    "    print(word)"
   ]
  },
  {
   "cell_type": "markdown",
   "id": "48ac7b24",
   "metadata": {},
   "source": [
    "### 5. Write a Python Program to Remove Punctuation From a String?"
   ]
  },
  {
   "cell_type": "code",
   "execution_count": 7,
   "id": "d25c5520",
   "metadata": {},
   "outputs": [
    {
     "name": "stdout",
     "output_type": "stream",
     "text": [
      "Hello he said and went\n"
     ]
    }
   ],
   "source": [
    "# define punctuation\n",
    "punctuations = '''!()-[]{};:'\"\\,<>./?@#$%^&*_~'''\n",
    "\n",
    "text = \"Hello!!!, he said ---and went.\"\n",
    "\n",
    "# remove punctuation from the string\n",
    "nopunc = \"\"\n",
    "for char in text:\n",
    "   if char not in punctuations:\n",
    "       nopunc = nopunc + char\n",
    "\n",
    "# display the unpunctuated string\n",
    "print(nopunc)"
   ]
  }
 ],
 "metadata": {
  "kernelspec": {
   "display_name": "Python 3 (ipykernel)",
   "language": "python",
   "name": "python3"
  },
  "language_info": {
   "codemirror_mode": {
    "name": "ipython",
    "version": 3
   },
   "file_extension": ".py",
   "mimetype": "text/x-python",
   "name": "python",
   "nbconvert_exporter": "python",
   "pygments_lexer": "ipython3",
   "version": "3.9.12"
  }
 },
 "nbformat": 4,
 "nbformat_minor": 5
}
