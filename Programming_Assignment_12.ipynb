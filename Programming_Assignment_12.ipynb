{
 "cells": [
  {
   "cell_type": "markdown",
   "id": "b7231b20",
   "metadata": {},
   "source": [
    "# Python Basic Programming Assignment 12\n",
    "-------------"
   ]
  },
  {
   "cell_type": "markdown",
   "id": "d2ec324d",
   "metadata": {},
   "source": [
    "### 1. Write a Python program to Extract Unique values dictionary values?"
   ]
  },
  {
   "cell_type": "code",
   "execution_count": 2,
   "id": "aaecf257",
   "metadata": {},
   "outputs": [
    {
     "name": "stdout",
     "output_type": "stream",
     "text": [
      "The original dictionary is : {'Name': ['Wasim', 'Rehan', 'Wasim', 'Rehan', 'Sana', 'Sana'], 'Age': [39, 39, 28, 33, 28, 33], 'Best': ['First', 'Second', 'Third', 'First', 'Second', 'Second']}\n",
      "The unique values list is : [33, 'Wasim', 39, 'Third', 'First', 'Rehan', 'Sana', 'Second', 28]\n"
     ]
    }
   ],
   "source": [
    "# Create dictionary\n",
    "my_dict = {'Name': ['Wasim','Rehan','Wasim','Rehan','Sana','Sana'],\n",
    "        'Age': [39, 39, 28, 33, 28, 33],\n",
    "        'Best': ['First','Second','Third','First', 'Second', 'Second']    \n",
    "        }\n",
    "\n",
    "# Print original dictionary\n",
    "print(\"The original dictionary is : \" + str(my_dict))\n",
    "\n",
    "#Find unique value in dictionary\n",
    "result = list({ele for val in my_dict.values() for ele in val})\n",
    "\n",
    "# Print unique value in dictionary\n",
    "print(\"The unique values list is : \"+ str(result))"
   ]
  },
  {
   "cell_type": "markdown",
   "id": "203bcbc3",
   "metadata": {},
   "source": [
    "### 2. Write a Python program to find the sum of all items in a dictionary?"
   ]
  },
  {
   "cell_type": "code",
   "execution_count": 3,
   "id": "2171b19c",
   "metadata": {},
   "outputs": [
    {
     "name": "stdout",
     "output_type": "stream",
     "text": [
      "Sum : 600\n"
     ]
    }
   ],
   "source": [
    "def returnSum(my_dict):\n",
    "    \n",
    "    list = []\n",
    "    for i in my_dict:\n",
    "        list.append(my_dict[i])\n",
    "    result = sum(list)    \n",
    "    \n",
    "    return result\n",
    "\n",
    "# Final output\n",
    "my_dict = {'z': 100, 'b': 200, 'c': 300}\n",
    "print(\"Sum :\", returnSum(my_dict))"
   ]
  },
  {
   "cell_type": "markdown",
   "id": "edfbc682",
   "metadata": {},
   "source": [
    "### 3. Write a Python program to Merging two Dictionaries?"
   ]
  },
  {
   "cell_type": "code",
   "execution_count": 4,
   "id": "6666c043",
   "metadata": {},
   "outputs": [
    {
     "name": "stdout",
     "output_type": "stream",
     "text": [
      "{'p': 10, 'q': 8, 'r': 6, 's': 4}\n"
     ]
    }
   ],
   "source": [
    "# Python code to merge dict using a single expression\n",
    "def Merge(my_dict1, my_dict2):\n",
    "    res = {**my_dict1, **my_dict2}\n",
    "    return res\n",
    "\n",
    "# Driver code\n",
    "my_dict1 = {'p': 10, 'q': 8}\n",
    "my_dict2 = {'r': 6, 's': 4}\n",
    "my_dict3 = Merge(my_dict1, my_dict2)\n",
    "print(my_dict3)"
   ]
  },
  {
   "cell_type": "markdown",
   "id": "62eaf687",
   "metadata": {},
   "source": [
    "### 4. Write a Python program to convert key-values list to flat dictionary?"
   ]
  },
  {
   "cell_type": "code",
   "execution_count": 9,
   "id": "799b9544",
   "metadata": {},
   "outputs": [
    {
     "name": "stdout",
     "output_type": "stream",
     "text": [
      "The dictionary is : \n",
      "{'month_num': [1, 2, 3, 4, 5, 6], 'name_of_month': ['Jan', 'Feb', 'March', 'Apr', 'May', 'June']}\n",
      "The flattened dictionary is: \n",
      "{1: 'Jan', 2: 'Feb', 3: 'March', 4: 'Apr', 5: 'May', 6: 'June'}\n"
     ]
    }
   ],
   "source": [
    "from itertools import product\n",
    "\n",
    "my_dict = {'month_num' : [1, 2, 3, 4, 5, 6], 'name_of_month' : ['Jan', 'Feb', 'March', 'Apr', 'May', 'June']}\n",
    "\n",
    "print(\"The dictionary is : \")\n",
    "print(my_dict)\n",
    "\n",
    "my_result = dict(zip(my_dict['month_num'], my_dict['name_of_month']))\n",
    "\n",
    "print(\"The flattened dictionary is: \")\n",
    "print(my_result)"
   ]
  },
  {
   "cell_type": "markdown",
   "id": "fcc5015f",
   "metadata": {},
   "source": [
    "### 5. Write a Python program to insertion at the beginning in OrderedDict?"
   ]
  },
  {
   "cell_type": "code",
   "execution_count": 5,
   "id": "50fc7045",
   "metadata": {},
   "outputs": [
    {
     "name": "stdout",
     "output_type": "stream",
     "text": [
      "Resultant Dictionary : OrderedDict([('Faisal', '3'), ('Rehan', '1'), ('Sufiyan', '2')])\n"
     ]
    }
   ],
   "source": [
    "# import library OrderedDict\n",
    "from collections import OrderedDict\n",
    "\n",
    "# Initialising ordered_dict\n",
    "iniordered_dict = OrderedDict([('Rehan', '1'), ('Sufiyan', '2')])\n",
    "\n",
    "# Inserting items in starting of dict\n",
    "iniordered_dict.update({'Faisal': '3'})\n",
    "iniordered_dict.move_to_end('Faisal', last=False)\n",
    "\n",
    "# Printing result\n",
    "print(\"Resultant Dictionary : \"+str(iniordered_dict))"
   ]
  },
  {
   "cell_type": "markdown",
   "id": "5978c9ab",
   "metadata": {},
   "source": [
    "### 6. Write a Python program to check order of character in string using OrderedDict()?"
   ]
  },
  {
   "cell_type": "code",
   "execution_count": 6,
   "id": "45f06eb4",
   "metadata": {},
   "outputs": [
    {
     "name": "stdout",
     "output_type": "stream",
     "text": [
      "True\n"
     ]
    }
   ],
   "source": [
    "def check_order(string, pattern):\n",
    "    i, j = 0, 0\n",
    "    for char in string:\n",
    "        if char == pattern[j]:\n",
    "            j += 1\n",
    "        if j == len(pattern):\n",
    "            return True\n",
    "        i += 1\n",
    "\n",
    "    return False\n",
    "string = 'engineers rock'\n",
    "pattern = 'er'\n",
    "print(check_order(string, pattern))"
   ]
  },
  {
   "cell_type": "markdown",
   "id": "f330da77",
   "metadata": {},
   "source": [
    "### 7. Write a Python program to sort Python Dictionaries by Key or Value?"
   ]
  },
  {
   "cell_type": "code",
   "execution_count": 7,
   "id": "cb91901a",
   "metadata": {},
   "outputs": [
    {
     "name": "stdout",
     "output_type": "stream",
     "text": [
      "{'Abdul': 32, 'Kassim': 2, 'Rashid': 9, 'Sohail': 15, 'Zaheer': 10}\n"
     ]
    }
   ],
   "source": [
    "myDict = {'Zaheer': 10, 'Rashid': 9,'Sohail': 15, 'Kassim': 2, 'Abdul': 32}\n",
    "\n",
    "myKeys = list(myDict.keys())\n",
    "myKeys.sort()\n",
    "sorted_dict = {i: myDict[i] for i in myKeys}\n",
    "\n",
    "print(sorted_dict)"
   ]
  }
 ],
 "metadata": {
  "kernelspec": {
   "display_name": "Python 3 (ipykernel)",
   "language": "python",
   "name": "python3"
  },
  "language_info": {
   "codemirror_mode": {
    "name": "ipython",
    "version": 3
   },
   "file_extension": ".py",
   "mimetype": "text/x-python",
   "name": "python",
   "nbconvert_exporter": "python",
   "pygments_lexer": "ipython3",
   "version": "3.9.13"
  }
 },
 "nbformat": 4,
 "nbformat_minor": 5
}
