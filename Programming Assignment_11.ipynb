{
 "cells": [
  {
   "cell_type": "markdown",
   "id": "53c7e882",
   "metadata": {},
   "source": [
    "# Python Basic Programming Assignment 11\n",
    "--------------------"
   ]
  },
  {
   "cell_type": "markdown",
   "id": "051da140",
   "metadata": {},
   "source": [
    "### 1. Write a Python program to find words which are greater than given length k?"
   ]
  },
  {
   "cell_type": "code",
   "execution_count": 1,
   "id": "37f9cf07",
   "metadata": {},
   "outputs": [
    {
     "name": "stdout",
     "output_type": "stream",
     "text": [
      "['Wasim', 'going']\n"
     ]
    }
   ],
   "source": [
    "def Len_Of_String(i, str):\n",
    "    \n",
    "    #Create a List\n",
    "    string = []\n",
    "    \n",
    "    #Split the string where space is comes\n",
    "    text = str.split(\" \")\n",
    "    \n",
    "    #iterate the loop till every substring\n",
    "    for x in text:\n",
    "        \n",
    "        #Check len of string is greater than i\n",
    "        if len(x) > i:\n",
    "            \n",
    "            string.append(x)\n",
    "            \n",
    "    return string\n",
    "\n",
    "i = 4\n",
    "\n",
    "str = \"Wasim is going home\"\n",
    "print(Len_Of_String(i,str))"
   ]
  },
  {
   "cell_type": "markdown",
   "id": "26719cbd",
   "metadata": {},
   "source": [
    "### 2. Write a Python program for removing i-th character from a string?"
   ]
  },
  {
   "cell_type": "code",
   "execution_count": 2,
   "id": "71953905",
   "metadata": {},
   "outputs": [
    {
     "name": "stdout",
     "output_type": "stream",
     "text": [
      "The string after removal of i'th character : The ay is beautiful\n"
     ]
    }
   ],
   "source": [
    "test_text = \"The day is beautiful\"\n",
    "\n",
    "# Removing char at pos 3\n",
    "new_str = \"\"\n",
    "\n",
    "for i in range(len(test_text)):\n",
    "    if i != 4:\n",
    "        new_str = new_str + test_text[i]\n",
    "        \n",
    "# Printing string after removal\n",
    "print(\"The string after removal of i'th character : \" + new_str)"
   ]
  },
  {
   "cell_type": "markdown",
   "id": "51ae6b0f",
   "metadata": {},
   "source": [
    "### 3. Write a Python program to split and join a string?"
   ]
  },
  {
   "cell_type": "code",
   "execution_count": 3,
   "id": "0ffdf127",
   "metadata": {},
   "outputs": [
    {
     "name": "stdout",
     "output_type": "stream",
     "text": [
      "The string after splitting is:  ['Once', 'in', 'a', 'blue', 'moon']\n",
      "The string after joining is:  Once-in-a-blue-moon\n"
     ]
    }
   ],
   "source": [
    "def splitting(str):\n",
    "    # Split based on the space delimiter\n",
    "    list = str.split(' ')\n",
    "    return list\n",
    "\n",
    "def joining(list):\n",
    "    # Join based on the '-' delimiter\n",
    "    str = '-'.join(list)\n",
    "    return str\n",
    "\n",
    "str = 'Once in a blue moon'\n",
    "\n",
    "# Split the string\n",
    "list = splitting(str)\n",
    "print(\"The string after splitting is: \",list)\n",
    "\n",
    "# Joining the list of strings into one\n",
    "restoring = joining(list)\n",
    "print(\"The string after joining is: \",restoring)"
   ]
  },
  {
   "cell_type": "markdown",
   "id": "59079fe1",
   "metadata": {},
   "source": [
    "### 4. Write a Python to check if a given string is binary string or not?"
   ]
  },
  {
   "cell_type": "code",
   "execution_count": 4,
   "id": "000a1d66",
   "metadata": {},
   "outputs": [
    {
     "name": "stdout",
     "output_type": "stream",
     "text": [
      "Binary String\n",
      "Non Binary String\n"
     ]
    }
   ],
   "source": [
    "def check(string) :\n",
    "    b = set(string)\n",
    "    s = {'0', '1'}\n",
    "    if s == b or b == {'0'} or b == {'1'}:\n",
    "        print(\"Binary String\")\n",
    "    else :\n",
    "        print(\"Non Binary String\")\n",
    "  \n",
    "s1= \"00110101\"\n",
    "# function calling\n",
    "check(s1)\n",
    "s2 = \"1010100020111\"\n",
    "check(s2)"
   ]
  },
  {
   "cell_type": "markdown",
   "id": "4d6cf11a",
   "metadata": {},
   "source": [
    "### 5. Write a Python program to find uncommon words from two Strings?"
   ]
  },
  {
   "cell_type": "code",
   "execution_count": 5,
   "id": "7fcf46cb",
   "metadata": {},
   "outputs": [
    {
     "name": "stdout",
     "output_type": "stream",
     "text": [
      "['Welcome', 'to']\n"
     ]
    }
   ],
   "source": [
    "def uncommon_words(s1, s2):\n",
    "    count = {}\n",
    "    for word in s1.split():\n",
    "        count[word] = count.get(word, 0) + 1\n",
    "    # words of string s2\n",
    "    for word in s2.split():\n",
    "        count[word] = count.get(word, 0) + 1\n",
    "    # return required list of words\n",
    "    return [word for word in count if count[word] == 1]\n",
    "\n",
    "s1=\"Studytonight\"\n",
    "s2=\"Welcome to Studytonight\"\n",
    "  \n",
    "# Print required answer\n",
    "print(uncommon_words(s1, s2))"
   ]
  },
  {
   "cell_type": "markdown",
   "id": "e2b24677",
   "metadata": {},
   "source": [
    "### 6. Write a Python to find all duplicate characters in string?"
   ]
  },
  {
   "cell_type": "code",
   "execution_count": 6,
   "id": "4cecf6bb",
   "metadata": {},
   "outputs": [
    {
     "name": "stdout",
     "output_type": "stream",
     "text": [
      "enter the string whose duplicate characters you want to find:Yesterday was Sunday\n",
      "the duplicate character in Yesterday was Sunday is\n",
      "['e', 's', 'd', 'a', 'y', ' ']\n"
     ]
    }
   ],
   "source": [
    "string = input(\"enter the string whose duplicate characters you want to find:\")\n",
    "\n",
    "def duplicates_char(s):\n",
    "    elements = {}\n",
    "    for char in s:\n",
    "        if elements.get(char,None) != None:\n",
    "            elements[char]+=1\n",
    "        else:\n",
    "            elements[char] = 1\n",
    "    return [k for k,v in elements.items() if v>1]\n",
    "print(\"the duplicate character in\",string,\"is\")\n",
    "print(duplicates_char(string))"
   ]
  },
  {
   "cell_type": "markdown",
   "id": "1a6af7e4",
   "metadata": {},
   "source": [
    "### 7. Write a Python Program to check if a string contains any special character?"
   ]
  },
  {
   "cell_type": "code",
   "execution_count": 7,
   "id": "e1fab959",
   "metadata": {},
   "outputs": [
    {
     "name": "stdout",
     "output_type": "stream",
     "text": [
      "No\n",
      "Yes\n"
     ]
    }
   ],
   "source": [
    "# Import library regular expression\n",
    "import re\n",
    "\n",
    "# Function to check if a string contains only special characters\n",
    "def onlySpecialCharacters(Str):\n",
    "\n",
    "    regex = \"[^a-zA-Z0-9]+\"\n",
    "\n",
    "    # Compile the ReGex\n",
    "    p=re.compile(regex)\n",
    "\n",
    "    # If the string is empty then print No\n",
    "    if(len(Str) == 0):\n",
    "        print(\"No\")\n",
    "        return\n",
    "\n",
    "    # Print Yes If the string matches with the Regex\n",
    "    if(re.search(p, Str)):\n",
    "        print(\"Yes\")\n",
    "    else:\n",
    "        print(\"No\")\n",
    "\n",
    "# Given string str\n",
    "Str = \"Wasim\"\n",
    "onlySpecialCharacters(Str)\n",
    "\n",
    "Str = \"Wasim!\"\n",
    "onlySpecialCharacters(Str)"
   ]
  }
 ],
 "metadata": {
  "kernelspec": {
   "display_name": "Python 3 (ipykernel)",
   "language": "python",
   "name": "python3"
  },
  "language_info": {
   "codemirror_mode": {
    "name": "ipython",
    "version": 3
   },
   "file_extension": ".py",
   "mimetype": "text/x-python",
   "name": "python",
   "nbconvert_exporter": "python",
   "pygments_lexer": "ipython3",
   "version": "3.9.12"
  }
 },
 "nbformat": 4,
 "nbformat_minor": 5
}
